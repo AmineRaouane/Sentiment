{
 "cells": [
  {
   "cell_type": "code",
   "execution_count": 2,
   "metadata": {},
   "outputs": [
    {
     "name": "stdout",
     "output_type": "stream",
     "text": [
      "WARNING:tensorflow:From c:\\Users\\DELL\\AppData\\Local\\Programs\\Python\\Python311\\Lib\\site-packages\\keras\\src\\losses.py:2976: The name tf.losses.sparse_softmax_cross_entropy is deprecated. Please use tf.compat.v1.losses.sparse_softmax_cross_entropy instead.\n",
      "\n"
     ]
    }
   ],
   "source": [
    "import pandas as pd\n",
    "import numpy as np\n",
    "import matplotlib.pyplot as plt\n",
    "import seaborn as sns\n",
    "import tensorflow as tf\n",
    "from keras.preprocessing.sequence import pad_sequences\n",
    "plt.style.use('seaborn-v0_8-white')"
   ]
  },
  {
   "cell_type": "code",
   "execution_count": 3,
   "metadata": {},
   "outputs": [],
   "source": [
    "def make(name):\n",
    "    Data = pd.read_csv(name)\n",
    "    Data.columns=['id','Position','sentiment','text']\n",
    "    Data.drop(['id','Position'],axis=1,inplace=True)\n",
    "    Data.dropna(inplace=True)\n",
    "    return Data\n",
    "Train = make('twitter_training.csv')\n",
    "Test = make('twitter_validation.csv')"
   ]
  },
  {
   "cell_type": "code",
   "execution_count": 4,
   "metadata": {},
   "outputs": [
    {
     "data": {
      "text/plain": [
       "<Axes: xlabel='sentiment'>"
      ]
     },
     "execution_count": 4,
     "metadata": {},
     "output_type": "execute_result"
    },
    {
     "data": {
      "image/png": "[encoded data removed]",
      "text/plain": [
       "<Figure size 640x480 with 1 Axes>"
      ]
     },
     "metadata": {},
     "output_type": "display_data"
    }
   ],
   "source": [
    "Train[\"sentiment\"].value_counts().plot(kind='bar')"
   ]
  },
  {
   "cell_type": "code",
   "execution_count": 5,
   "metadata": {},
   "outputs": [],
   "source": [
    "def get_vocab(Data):\n",
    "    Vocabulary = {}\n",
    "    word_encoding = 1\n",
    "    for i in range(len(Data)):\n",
    "        line = Data.iloc[i]['text']\n",
    "        for word in line.split():\n",
    "            if word not in Vocabulary:\n",
    "                Vocabulary[word] = word_encoding\n",
    "                word_encoding += 1\n",
    "    return Vocabulary\n",
    "\n",
    "Vocabulary = get_vocab(Train)"
   ]
  },
  {
   "cell_type": "code",
   "execution_count": 6,
   "metadata": {},
   "outputs": [],
   "source": [
    "def one_hot_encoding(text,vocab=Vocabulary):\n",
    "  words = text.lower().split(\" \") \n",
    "  encoding = []  \n",
    "  for word in words:\n",
    "    if word in vocab:\n",
    "      encoding.append(vocab[word])\n",
    "    else:\n",
    "      encoding.append(0)\n",
    "  return np.array(encoding)"
   ]
  },
  {
   "cell_type": "code",
   "execution_count": 7,
   "metadata": {},
   "outputs": [],
   "source": [
    "def Prepare(Data):\n",
    "    Data['text']=Data['text'].astype(str)\n",
    "    Data['text']=Data['text'].map(lambda x: x.lower())\n",
    "    Data['text']= Data['text'].map(lambda x: one_hot_encoding(x))\n",
    "    Filt ={'positive': 1, 'negative': 0, 'neutral': 2, 'irrelevant': 3}\n",
    "    Data['sentiment'] = Data['sentiment'].apply(lambda x: Filt[x.lower()])\n",
    "\n",
    "Prepare(Train)\n",
    "Prepare(Test)\n",
    "\n",
    "Train_X, Train_Y ,Test_X, Test_Y = Train['text'], Train['sentiment'], Test['text'], Test['sentiment']\n",
    "Train_X = pad_sequences(Train_X, maxlen=1000)\n",
    "Test_X = pad_sequences(Test_X, maxlen=1000)"
   ]
  },
  {
   "cell_type": "code",
   "execution_count": 8,
   "metadata": {},
   "outputs": [],
   "source": [
    "from tensorflow.keras.models import Sequential\n",
    "from tensorflow.keras.layers import Embedding, LSTM, Dense"
   ]
  },
  {
   "cell_type": "code",
   "execution_count": 14,
   "metadata": {},
   "outputs": [
    {
     "name": "stdout",
     "output_type": "stream",
     "text": [
      "Model: \"sequential_2\"\n",
      "_________________________________________________________________\n",
      " Layer (type)                Output Shape              Param #   \n",
      "=================================================================\n",
      " embedding_2 (Embedding)     (None, None, 32)          2720000   \n",
      "                                                                 \n",
      " lstm_2 (LSTM)               (None, 32)                8320      \n",
      "                                                                 \n",
      " dense_2 (Dense)             (None, 4)                 132       \n",
      "                                                                 \n",
      "=================================================================\n",
      "Total params: 2728452 (10.41 MB)\n",
      "Trainable params: 2728452 (10.41 MB)\n",
      "Non-trainable params: 0 (0.00 Byte)\n",
      "_________________________________________________________________\n"
     ]
    }
   ],
   "source": [
    "num_classes = 4\n",
    "\n",
    "model = Sequential([\n",
    "    Embedding(85000, 32),\n",
    "    LSTM(32),\n",
    "    Dense(num_classes, activation='softmax')  # Use softmax for multi-class classification\n",
    "])\n",
    "\n",
    "# Compile the model with sparse categorical crossentropy loss for integer labels\n",
    "model.compile(optimizer='adam',\n",
    "              loss='sparse_categorical_crossentropy',  # Use sparse categorical crossentropy for integer labels\n",
    "              metrics=['accuracy'])\n",
    "\n",
    "# Assuming Train[\"sentiment\"] contains integer labels\n",
    "model.summary()"
   ]
  },
  {
   "cell_type": "code",
   "execution_count": 16,
   "metadata": {},
   "outputs": [
    {
     "name": "stdout",
     "output_type": "stream",
     "text": [
      "Epoch 1/4\n",
      "925/925 [==============================] - 401s 430ms/step - loss: 0.9365 - accuracy: 0.6147 - val_loss: 1.3590 - val_accuracy: 0.4822\n",
      "Epoch 2/4\n",
      "925/925 [==============================] - 386s 418ms/step - loss: 0.3742 - accuracy: 0.8649 - val_loss: 1.6860 - val_accuracy: 0.4650\n",
      "Epoch 3/4\n",
      "925/925 [==============================] - 386s 418ms/step - loss: 0.2252 - accuracy: 0.9160 - val_loss: 2.0318 - val_accuracy: 0.4542\n",
      "Epoch 4/4\n",
      "925/925 [==============================] - 452s 489ms/step - loss: 0.1739 - accuracy: 0.9331 - val_loss: 2.4509 - val_accuracy: 0.4382\n"
     ]
    }
   ],
   "source": [
    "Hist = model.fit(Train_X, Train_Y, epochs=4, batch_size=64,validation_split=0.2)"
   ]
  },
  {
   "cell_type": "code",
   "execution_count": 26,
   "metadata": {},
   "outputs": [],
   "source": [
    "model.save('model.keras')"
   ]
  },
  {
   "cell_type": "code",
   "execution_count": 9,
   "metadata": {},
   "outputs": [
    {
     "name": "stdout",
     "output_type": "stream",
     "text": [
      "WARNING:tensorflow:From c:\\Users\\DELL\\AppData\\Local\\Programs\\Python\\Python311\\Lib\\site-packages\\keras\\src\\backend.py:1398: The name tf.executing_eagerly_outside_functions is deprecated. Please use tf.compat.v1.executing_eagerly_outside_functions instead.\n",
      "\n",
      "WARNING:tensorflow:From c:\\Users\\DELL\\AppData\\Local\\Programs\\Python\\Python311\\Lib\\site-packages\\keras\\src\\optimizers\\__init__.py:309: The name tf.train.Optimizer is deprecated. Please use tf.compat.v1.train.Optimizer instead.\n",
      "\n"
     ]
    }
   ],
   "source": [
    "model = tf.keras.models.load_model('model.keras')"
   ]
  },
  {
   "cell_type": "code",
   "execution_count": 10,
   "metadata": {},
   "outputs": [
    {
     "name": "stdout",
     "output_type": "stream",
     "text": [
      "32/32 [==============================] - 5s 106ms/step\n"
     ]
    }
   ],
   "source": [
    "Prediction = model.predict(Test_X[0:])"
   ]
  },
  {
   "cell_type": "code",
   "execution_count": 13,
   "metadata": {},
   "outputs": [
    {
     "data": {
      "text/plain": [
       "array([[6.72216192e-05, 1.03206930e-05, 9.99913931e-01, 8.56070892e-06],\n",
       "       [9.98359025e-01, 1.37093419e-04, 1.43666391e-03, 6.72536262e-05],\n",
       "       [9.99947429e-01, 1.97569061e-05, 2.06008499e-05, 1.21913345e-05],\n",
       "       ...,\n",
       "       [7.23580843e-06, 9.99768436e-01, 1.41477896e-04, 8.27811746e-05],\n",
       "       [3.83626248e-05, 9.99951005e-01, 6.77009484e-06, 3.84337227e-06],\n",
       "       [1.17547072e-01, 2.50720866e-02, 8.45147431e-01, 1.22333895e-02]],\n",
       "      dtype=float32)"
      ]
     },
     "execution_count": 13,
     "metadata": {},
     "output_type": "execute_result"
    }
   ],
   "source": [
    "Prediction"
   ]
  },
  {
   "cell_type": "code",
   "execution_count": 19,
   "metadata": {},
   "outputs": [
    {
     "data": {
      "text/plain": [
       "array([2, 0, 0, 2, 0, 2, 1, 1, 0, 1, 1, 0, 2, 0, 3, 1, 0, 1, 0, 1, 2, 3,\n",
       "       0, 2, 2, 0, 3, 3, 0, 1, 1, 2, 0, 0, 2, 2, 3, 1, 2, 1, 2, 2, 2, 1,\n",
       "       2, 0, 2, 1, 2, 1, 0, 0, 1, 1, 1, 1, 1, 0, 3, 0, 1, 1, 3, 0, 3, 0,\n",
       "       3, 2, 0, 1, 2, 0, 1, 1, 3, 1, 3, 2, 2, 2, 1, 1, 2, 1, 2, 0, 3, 0,\n",
       "       0, 2, 2, 2, 2, 3, 0, 0, 0, 3, 2, 2, 0, 1, 1, 2, 1, 2, 1, 0, 2, 2,\n",
       "       2, 0, 2, 0, 2, 3, 1, 1, 2, 0, 0, 1, 0, 2, 2, 1, 1, 0, 2, 3, 3, 2,\n",
       "       1, 1, 3, 2, 2, 3, 3, 3, 2, 2, 3, 3, 0, 1, 2, 1, 3, 1, 0, 2, 2, 2,\n",
       "       3, 2, 0, 2, 1, 0, 2, 0, 3, 3, 3, 1, 0, 0, 0, 1, 1, 1, 0, 2, 1, 3,\n",
       "       2, 1, 2, 3, 2, 0, 0, 2, 1, 1, 3, 3, 2, 1, 1, 2, 3, 2, 0, 0, 1, 0,\n",
       "       1, 2, 2, 3, 1, 1, 1, 0, 1, 1, 1, 2, 3, 0, 1, 3, 3, 1, 1, 1, 0, 3,\n",
       "       1, 1, 1, 0, 3, 3, 2, 1, 0, 1, 3, 2, 3, 3, 0, 0, 2, 1, 3, 3, 3, 1,\n",
       "       1, 3, 3, 2, 1, 2, 0, 1, 1, 1, 1, 2, 3, 1, 0, 2, 1, 2, 0, 2, 2, 0,\n",
       "       1, 1, 3, 2, 2, 3, 1, 2, 3, 0, 2, 0, 1, 1, 0, 0, 0, 1, 0, 3, 1, 2,\n",
       "       2, 0, 1, 0, 1, 3, 2, 2, 2, 1, 0, 2, 0, 3, 1, 0, 1, 3, 1, 0, 3, 1,\n",
       "       1, 0, 0, 1, 0, 2, 2, 2, 1, 3, 2, 3, 3, 0, 2, 2, 3, 2, 2, 3, 2, 1,\n",
       "       0, 0, 3, 2, 1, 3, 1, 2, 3, 3, 3, 0, 0, 0, 2, 1, 0, 2, 0, 1, 3, 2,\n",
       "       0, 0, 0, 1, 2, 2, 3, 0, 1, 2, 3, 2, 1, 1, 2, 2, 1, 1, 0, 2, 1, 1,\n",
       "       2, 0, 1, 0, 1, 1, 3, 1, 2, 2, 0, 2, 3, 3, 1, 2, 1, 0, 0, 0, 3, 0,\n",
       "       2, 1, 3, 0, 2, 3, 3, 1, 2, 1, 1, 2, 2, 3, 2, 0, 1, 1, 2, 0, 1, 0,\n",
       "       0, 0, 0, 0, 0, 2, 2, 2, 1, 1, 0, 0, 2, 0, 0, 2, 0, 3, 1, 0, 3, 0,\n",
       "       1, 1, 3, 3, 2, 3, 2, 2, 0, 0, 1, 2, 1, 2, 2, 0, 3, 3, 2, 2, 0, 2,\n",
       "       2, 2, 3, 0, 1, 1, 3, 3, 1, 3, 3, 2, 0, 2, 1, 1, 0, 1, 1, 1, 1, 2,\n",
       "       0, 3, 2, 0, 1, 2, 2, 1, 1, 3, 1, 3, 2, 3, 2, 0, 0, 2, 2, 2, 1, 0,\n",
       "       0, 1, 2, 2, 2, 0, 0, 1, 2, 3, 0, 0, 1, 2, 1, 2, 0, 0, 2, 3, 3, 0,\n",
       "       2, 0, 1, 3, 3, 0, 2, 1, 2, 1, 0, 2, 1, 0, 0, 2, 1, 1, 3, 3, 0, 2,\n",
       "       3, 2, 3, 0, 0, 2, 0, 0, 2, 1, 0, 2, 0, 1, 0, 2, 0, 0, 0, 0, 1, 0,\n",
       "       3, 2, 0, 1, 2, 2, 1, 0, 1, 2, 2, 2, 3, 3, 1, 3, 0, 2, 2, 3, 3, 0,\n",
       "       0, 3, 2, 3, 0, 2, 2, 0, 2, 1, 2, 2, 3, 2, 2, 3, 2, 1, 2, 1, 0, 3,\n",
       "       1, 2, 0, 1, 2, 3, 3, 2, 0, 1, 2, 2, 0, 3, 3, 0, 3, 0, 3, 1, 1, 3,\n",
       "       0, 1, 2, 0, 2, 3, 2, 2, 1, 1, 1, 1, 3, 3, 0, 3, 3, 2, 1, 2, 3, 2,\n",
       "       0, 1, 3, 3, 1, 2, 1, 2, 0, 2, 1, 2, 1, 0, 2, 1, 2, 3, 2, 2, 2, 1,\n",
       "       0, 0, 2, 2, 0, 1, 0, 3, 2, 3, 1, 1, 3, 1, 2, 0, 2, 3, 0, 3, 1, 0,\n",
       "       1, 0, 2, 1, 2, 2, 0, 0, 0, 2, 1, 2, 0, 3, 1, 1, 1, 3, 2, 1, 3, 0,\n",
       "       3, 0, 2, 1, 0, 2, 2, 1, 0, 0, 1, 2, 0, 0, 0, 0, 0, 3, 0, 3, 1, 1,\n",
       "       1, 1, 2, 2, 0, 1, 0, 0, 2, 3, 2, 1, 2, 1, 2, 1, 0, 2, 1, 2, 2, 2,\n",
       "       1, 3, 0, 3, 3, 0, 3, 1, 3, 2, 1, 2, 1, 0, 2, 2, 2, 1, 2, 2, 3, 0,\n",
       "       1, 2, 0, 0, 2, 2, 1, 0, 2, 2, 3, 0, 1, 2, 2, 1, 3, 1, 0, 2, 1, 2,\n",
       "       3, 1, 1, 2, 0, 2, 1, 1, 0, 0, 0, 3, 1, 0, 0, 0, 2, 2, 3, 1, 1, 0,\n",
       "       2, 1, 0, 0, 3, 0, 0, 0, 0, 3, 3, 3, 2, 1, 2, 2, 1, 1, 2, 2, 2, 3,\n",
       "       1, 0, 2, 3, 2, 0, 3, 0, 2, 3, 1, 3, 1, 3, 2, 0, 3, 3, 3, 1, 1, 3,\n",
       "       1, 1, 0, 0, 0, 2, 2, 2, 2, 2, 1, 2, 0, 2, 0, 0, 1, 2, 2, 1, 1, 2,\n",
       "       1, 1, 1, 0, 1, 2, 2, 3, 1, 0, 3, 3, 3, 1, 0, 1, 3, 3, 0, 2, 1, 1,\n",
       "       0, 0, 2, 0, 2, 3, 2, 1, 3, 2, 0, 0, 1, 1, 3, 3, 0, 3, 2, 0, 2, 2,\n",
       "       2, 2, 2, 2, 3, 1, 1, 1, 1, 0, 0, 2, 1, 1, 3, 3, 1, 2, 1, 2, 3, 1,\n",
       "       2, 0, 0, 1, 1, 1, 3, 1, 2, 3, 0, 1, 1, 0, 0, 0, 2, 1, 2, 2, 1, 1,\n",
       "       2, 1, 0, 1, 3, 3, 1, 1, 2], dtype=int64)"
      ]
     },
     "execution_count": 19,
     "metadata": {},
     "output_type": "execute_result"
    }
   ],
   "source": [
    "Prediction = np.argmax(Prediction, axis=1)\n",
    "Prediction"
   ]
  },
  {
   "cell_type": "code",
   "execution_count": 21,
   "metadata": {},
   "outputs": [],
   "source": [
    "def Evaluate(Prediction, Test_Y):\n",
    "    from sklearn.metrics import accuracy_score, confusion_matrix\n",
    "    print(\"Accuracy: {:.2f}%\".format(accuracy_score(Test_Y, Prediction) * 100))\n",
    "    print(\"Confusion Matrix:\")\n",
    "    print(confusion_matrix(Test_Y, Prediction))"
   ]
  },
  {
   "cell_type": "code",
   "execution_count": 22,
   "metadata": {},
   "outputs": [
    {
     "name": "stdout",
     "output_type": "stream",
     "text": [
      "Accuracy: 84.58%\n",
      "Confusion Matrix:\n",
      "[[215  15  26  10]\n",
      " [ 14 237  13  13]\n",
      " [ 14  13 244  14]\n",
      " [  6   8   8 149]]\n"
     ]
    }
   ],
   "source": [
    "Evaluate(Prediction, Test_Y)"
   ]
  }
 ],
 "metadata": {
  "kernelspec": {
   "display_name": "Python 3",
   "language": "python",
   "name": "python3"
  },
  "language_info": {
   "codemirror_mode": {
    "name": "ipython",
    "version": 3
   },
   "file_extension": ".py",
   "mimetype": "text/x-python",
   "name": "python",
   "nbconvert_exporter": "python",
   "pygments_lexer": "ipython3",
   "version": "3.11.8"
  }
 },
 "nbformat": 4,
 "nbformat_minor": 2
}
